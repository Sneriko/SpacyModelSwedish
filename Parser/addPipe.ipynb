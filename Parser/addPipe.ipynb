{
 "cells": [
  {
   "cell_type": "code",
   "execution_count": 1,
   "metadata": {
    "collapsed": true,
    "pycharm": {
     "is_executing": false
    }
   },
   "outputs": [],
   "source": [
    "import spacy\n",
    "from pathlib import Path\n",
    "\n",
    "nlp = spacy.load('../Models/SwedishModelFastText')\n"
   ]
  },
  {
   "cell_type": "code",
   "execution_count": 2,
   "outputs": [],
   "source": [
    "nlp2 = spacy.load('../Models/Parser/model-best')\n",
    "parser = nlp2.get_pipe('parser')"
   ],
   "metadata": {
    "collapsed": false,
    "pycharm": {
     "name": "#%%\n",
     "is_executing": false
    }
   }
  },
  {
   "cell_type": "code",
   "execution_count": 3,
   "outputs": [],
   "source": [
    "nlp.add_pipe(parser, first=True)"
   ],
   "metadata": {
    "collapsed": false,
    "pycharm": {
     "name": "#%%\n",
     "is_executing": false
    }
   }
  },
  {
   "cell_type": "code",
   "execution_count": 6,
   "outputs": [],
   "source": [
    "doc = nlp(\"Hej jag heter Sneriko. Jag är glad att det funkade.\")"
   ],
   "metadata": {
    "collapsed": false,
    "pycharm": {
     "name": "#%%\n",
     "is_executing": false
    }
   }
  },
  {
   "cell_type": "code",
   "execution_count": 7,
   "outputs": [
    {
     "name": "stdout",
     "text": [
      "Hej IN advmod heter\n",
      "jag PN|UTR|SIN|DEF|SUB nsubj heter\n",
      "heter VB|PRS|AKT ROOT heter\n",
      "Sneriko PM|NOM obj heter\n",
      ". MAD punct heter\n",
      "Jag PN|UTR|SIN|DEF|SUB nsubj glad\n",
      "är VB|PRS|AKT cop glad\n",
      "glad JJ|POS|UTR|SIN|IND|NOM ROOT glad\n",
      "att SN mark funkade\n",
      "det PN|NEU|SIN|DEF|SUB+OBJ nsubj funkade\n",
      "funkade VB|PRT|AKT advcl glad\n",
      ". MAD punct glad\n"
     ],
     "output_type": "stream"
    }
   ],
   "source": [
    "for token in doc:\n",
    "    print(token.text + ' ' + token.tag_ + ' ' + token.dep_ + ' ' + token.head.text)"
   ],
   "metadata": {
    "collapsed": false,
    "pycharm": {
     "name": "#%%\n",
     "is_executing": false
    }
   }
  },
  {
   "cell_type": "code",
   "execution_count": 8,
   "outputs": [],
   "source": [
    "from pathlib import Path\n",
    "output_dir = Path('../Models/SwedishModelFastText')\n",
    "nlp.to_disk(output_dir)\n"
   ],
   "metadata": {
    "collapsed": false,
    "pycharm": {
     "name": "#%%\n",
     "is_executing": false
    }
   }
  }
 ],
 "metadata": {
  "kernelspec": {
   "display_name": "Python 3",
   "language": "python",
   "name": "python3"
  },
  "language_info": {
   "codemirror_mode": {
    "name": "ipython",
    "version": 2
   },
   "file_extension": ".py",
   "mimetype": "text/x-python",
   "name": "python",
   "nbconvert_exporter": "python",
   "pygments_lexer": "ipython2",
   "version": "2.7.6"
  },
  "pycharm": {
   "stem_cell": {
    "cell_type": "raw",
    "source": [],
    "metadata": {
     "collapsed": false
    }
   }
  }
 },
 "nbformat": 4,
 "nbformat_minor": 0
}