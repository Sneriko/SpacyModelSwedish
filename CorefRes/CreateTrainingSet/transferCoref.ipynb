{
 "cells": [
  {
   "cell_type": "code",
   "execution_count": 1,
   "metadata": {
    "collapsed": true,
    "pycharm": {
     "is_executing": false
    }
   },
   "outputs": [],
   "source": [
    "import io\n",
    "import os\n",
    "import spacy\n",
    "from spacy.lang.en import English\n",
    "\n",
    "tokenizerEng = spacy.load('en', disable=['tagger', 'parser', 'ner'])\n",
    "tokenizerSwe = spacy.load('../SpacyModels/SpacySwedishFastText', disable=['tagger', 'parser', 'ner'])\n"
   ]
  },
  {
   "cell_type": "code",
   "execution_count": 2,
   "outputs": [],
   "source": [
    "startTokenEng = 0\n",
    "startTokenSwe = 0\n",
    "alignments = {}\n",
    "\n",
    "with open('../Data/Datasets/Europarl/Documents/ep-00-01-17/ep-00-01-17-en.txt') as engDoc:\n",
    "    with open('../Data/Datasets/Europarl/Documents/ep-00-01-17/alignments.fw') as fa:\n",
    "        with open('../Data/Datasets/Europarl/Documents/ep-00-01-17/ep-00-01-17-sv.txt') as sweDoc:\n",
    "            for lineAli in fa:\n",
    "                lineEngDoc = engDoc.readline()\n",
    "                lineSweDoc = sweDoc.readline()\n",
    "                tokEng = tokenizerEng(lineEngDoc)\n",
    "                tokSwe = tokenizerSwe(lineSweDoc)\n",
    "                \n",
    "                alignmentListTemp = lineAli.split()\n",
    "                for ali in alignmentListTemp:\n",
    "                    aliPair = ali.split('-')\n",
    "                    key = str(int(aliPair[0]) + startTokenEng)\n",
    "                    alignments[key] = int(aliPair[1]) + startTokenSwe\n",
    "                    \n",
    "                startTokenEng = startTokenEng + len(tokEng)\n",
    "                startTokenSwe = startTokenSwe + len(tokSwe)               \n"
   ],
   "metadata": {
    "collapsed": false,
    "pycharm": {
     "name": "#%%\n",
     "is_executing": false
    }
   }
  },
  {
   "cell_type": "code",
   "execution_count": 3,
   "outputs": [],
   "source": [
    "corp = ''\n",
    "\n",
    "with open('../Data/Datasets/Europarl/Documents/ep-00-01-17/ep-00-01-17-en.txt') as engDoc:\n",
    "    for line in engDoc:\n",
    "        corp = corp + line"
   ],
   "metadata": {
    "collapsed": false,
    "pycharm": {
     "name": "#%%\n",
     "is_executing": false
    }
   }
  },
  {
   "cell_type": "code",
   "execution_count": 1,
   "outputs": [],
   "source": [
    "sweCorp = ''\n",
    "\n",
    "with open('../Data/Datasets/Europarl/Documents/ep-00-01-17/ep-00-01-17-sv.txt') as sweDoc:\n",
    "    for line in sweDoc:\n",
    "        sweCorp = sweCorp + line"
   ],
   "metadata": {
    "collapsed": false,
    "pycharm": {
     "name": "#%%\n",
     "is_executing": false
    }
   }
  },
  {
   "cell_type": "code",
   "execution_count": 5,
   "outputs": [
    {
     "traceback": [
      "\u001b[0;31m---------------------------------------------------------------------------\u001b[0m",
      "\u001b[0;31mNameError\u001b[0m                                 Traceback (most recent call last)",
      "\u001b[0;32m<ipython-input-5-40daa309be92>\u001b[0m in \u001b[0;36m<module>\u001b[0;34m\u001b[0m\n\u001b[1;32m      5\u001b[0m \u001b[0mneuralcoref\u001b[0m\u001b[0;34m.\u001b[0m\u001b[0madd_to_pipe\u001b[0m\u001b[0;34m(\u001b[0m\u001b[0mnlp\u001b[0m\u001b[0;34m)\u001b[0m\u001b[0;34m\u001b[0m\u001b[0;34m\u001b[0m\u001b[0m\n\u001b[1;32m      6\u001b[0m \u001b[0;34m\u001b[0m\u001b[0m\n\u001b[0;32m----> 7\u001b[0;31m \u001b[0mdoc\u001b[0m \u001b[0;34m=\u001b[0m \u001b[0mnlp\u001b[0m\u001b[0;34m(\u001b[0m\u001b[0mcorp\u001b[0m\u001b[0;34m)\u001b[0m\u001b[0;34m\u001b[0m\u001b[0;34m\u001b[0m\u001b[0m\n\u001b[0m\u001b[1;32m      8\u001b[0m \u001b[0;34m\u001b[0m\u001b[0m\n\u001b[1;32m      9\u001b[0m \u001b[0;34m\u001b[0m\u001b[0m\n",
      "\u001b[0;31mNameError\u001b[0m: name 'corp' is not defined"
     ],
     "ename": "NameError",
     "evalue": "name 'corp' is not defined",
     "output_type": "error"
    }
   ],
   "source": [
    "import spacy\n",
    "import neuralcoref\n",
    "\n",
    "nlp = spacy.load('en')\n",
    "neuralcoref.add_to_pipe(nlp)\n",
    "\n",
    "doc = nlp(corp)\n"
   ],
   "metadata": {
    "collapsed": false,
    "pycharm": {
     "name": "#%%\n",
     "is_executing": false
    }
   }
  },
  {
   "cell_type": "code",
   "execution_count": 13,
   "outputs": [],
   "source": [
    "for corefCluster in doc.user_data.get(('._.', 'coref_clusters', None, None)):\n",
    "    alignedIndexes = []\n",
    "    startMain = corefCluster.main.start\n",
    "    endMain = corefCluster.main.end\n",
    "    for t in range(260, 264):\n",
    "        if alignments.get(str(t)) != None:\n",
    "            alignedIndexes.append(alignments[str(t)])\n",
    "    pass\n",
    "\n",
    "\n",
    "#corefCluster = doc.user_data.get(('._.', 'coref_clusters', None, None))[0].main"
   ],
   "metadata": {
    "collapsed": false,
    "pycharm": {
     "name": "#%%\n",
     "is_executing": false
    }
   }
  },
  {
   "cell_type": "code",
   "execution_count": 2,
   "outputs": [],
   "source": [
    "import spacy\n",
    "nlp = spacy.load('../SpacyModels/SpacySwedishFastText')\n",
    "doc = nlp(sweCorp)\n",
    "number = 0;\n",
    "for i, token in enumerate(doc):\n",
    "    if token.dep_ == 'ROOT':\n",
    "        number = number + 1\n"
   ],
   "metadata": {
    "collapsed": false,
    "pycharm": {
     "name": "#%%\n",
     "is_executing": false
    }
   }
  },
  {
   "cell_type": "code",
   "execution_count": 10,
   "outputs": [],
   "source": [
    "docTest = nlpSwe('Självkörande bilar är en fara för tillverkarna')\n",
    "for chunk in docTest.noun_chunks:\n",
    "    print(chunk.text)\n"
   ],
   "metadata": {
    "collapsed": false,
    "pycharm": {
     "name": "#%%\n",
     "is_executing": false
    }
   }
  },
  {
   "cell_type": "code",
   "execution_count": 1,
   "outputs": [],
   "source": [
    "import spacy\n",
    "import neuralcoref.train.document as dc\n",
    "nlpSwe = spacy.load('../SpacyModels/testParser/model-best')"
   ],
   "metadata": {
    "collapsed": false,
    "pycharm": {
     "name": "#%%\n",
     "is_executing": false
    }
   }
  },
  {
   "cell_type": "code",
   "execution_count": 2,
   "outputs": [],
   "source": [
    "doc = nlpSwe('Jag heter Erik. Fåglarna sjunger vackert.')\n",
    "\n",
    "\n",
    "#mentions = dc.extract_mentions_spans(doc, [])"
   ],
   "metadata": {
    "collapsed": false,
    "pycharm": {
     "name": "#%%\n",
     "is_executing": false
    }
   }
  },
  {
   "cell_type": "code",
   "execution_count": 4,
   "outputs": [
    {
     "name": "stdout",
     "text": [
      "text 0: Jag\n",
      "dep 0: nsubj\n",
      "head 0: heter\n",
      "text 1: heter\n",
      "dep 1: ROOT\n",
      "head 1: heter\n",
      "text 2: Erik\n",
      "dep 2: xcomp\n",
      "head 2: heter\n",
      "text 3: .\n",
      "dep 3: punct\n",
      "head 3: heter\n",
      "text 4: Fåglarna\n",
      "dep 4: nsubj\n",
      "head 4: sjunger\n",
      "text 5: sjunger\n",
      "dep 5: ROOT\n",
      "head 5: sjunger\n",
      "text 6: vackert\n",
      "dep 6: obj\n",
      "head 6: sjunger\n",
      "text 7: .\n",
      "dep 7: punct\n",
      "head 7: sjunger\n",
      "Jag heter Erik.\n",
      "Fåglarna sjunger vackert.\n"
     ],
     "output_type": "stream"
    }
   ],
   "source": [
    "for i, token in enumerate(doc):\n",
    "    print('text ' + str(i) + \": \" + token.text)\n",
    "    print('dep ' + str(i) + \": \" + token.dep_)\n",
    "    print('head ' + str(i) + \": \" + token.head.text)\n",
    "\n",
    "for sent in doc.sents:\n",
    "    print(sent)"
   ],
   "metadata": {
    "collapsed": false,
    "pycharm": {
     "name": "#%%\n",
     "is_executing": false
    }
   }
  },
  {
   "cell_type": "code",
   "execution_count": 12,
   "outputs": [
    {
     "name": "stdout",
     "text": [
      "kuk\n"
     ],
     "output_type": "stream"
    }
   ],
   "source": [
    "for sent in doc.sents:\n",
    "    print('kuk')"
   ],
   "metadata": {
    "collapsed": false,
    "pycharm": {
     "name": "#%%\n",
     "is_executing": false
    }
   }
  },
  {
   "cell_type": "code",
   "execution_count": 14,
   "outputs": [
    {
     "name": "stdout",
     "text": [
      "jag\n",
      "jag\n",
      "jag\n",
      "jag\n",
      "jag\n",
      "jag\n",
      "jag\n",
      "jag\n",
      "jag\n",
      "jag\n",
      "jag\n",
      "jag\n",
      "jag\n",
      "jag\n",
      "jag\n",
      "jag\n",
      "jag\n",
      "jag\n",
      "jag\n",
      "jag\n",
      "jag\n",
      "jag\n",
      "jag\n",
      "jag\n",
      "jag\n",
      "jag\n",
      "jag\n",
      "jag\n",
      "jag\n",
      "jag\n",
      "jag\n",
      "jag\n",
      "jag\n",
      "jag\n",
      "jag\n",
      "jag\n",
      "jag\n",
      "jag\n",
      "jag\n",
      "jag\n",
      "jag\n",
      "jag\n",
      "jag\n",
      "jag\n",
      "jag\n",
      "jag\n",
      "jag\n",
      "jag\n",
      "jag\n",
      "jag\n",
      "jag\n",
      "jag\n",
      "jag\n",
      "jag\n",
      "jag\n",
      "jag\n",
      "jag\n",
      "jag\n",
      "jag\n",
      "jag\n",
      "jag\n",
      "jag\n",
      "jag\n",
      "jag\n",
      "jag\n",
      "jag\n",
      "jag\n",
      "jag\n",
      "jag\n",
      "jag\n",
      "jag\n",
      "jag\n",
      "Hon\n",
      "jag\n",
      "jag\n",
      "jag\n",
      "jag\n",
      "jag\n",
      "jag\n",
      "jag\n",
      "jag\n",
      "jag\n",
      "jag\n",
      "jag\n",
      "jag\n",
      "jag\n",
      "jag\n",
      "jag\n",
      "jag\n",
      "jag\n",
      "jag\n",
      "jag\n",
      "jag\n",
      "jag\n",
      "jag\n",
      "jag\n",
      "jag\n",
      "jag\n",
      "jag\n",
      "jag\n",
      "jag\n",
      "jag\n",
      "jag\n",
      "jag\n",
      "jag\n",
      "jag\n",
      "jag\n",
      "jag\n",
      "jag\n",
      "jag\n",
      "jag\n",
      "jag\n",
      "jag\n",
      "jag\n",
      "jag\n",
      "jag\n",
      "jag\n",
      "jag\n",
      "jag\n",
      "jag\n",
      "jag\n",
      "jag\n",
      "jag\n",
      "jag\n",
      "jag\n",
      "jag\n",
      "jag\n",
      "jag\n"
     ],
     "output_type": "stream"
    }
   ],
   "source": [
    "\n"
   ],
   "metadata": {
    "collapsed": false,
    "pycharm": {
     "name": "#%%\n",
     "is_executing": false
    }
   }
  }
 ],
 "metadata": {
  "kernelspec": {
   "display_name": "Python 3",
   "language": "python",
   "name": "python3"
  },
  "language_info": {
   "codemirror_mode": {
    "name": "ipython",
    "version": 2
   },
   "file_extension": ".py",
   "mimetype": "text/x-python",
   "name": "python",
   "nbconvert_exporter": "python",
   "pygments_lexer": "ipython2",
   "version": "2.7.6"
  },
  "pycharm": {
   "stem_cell": {
    "cell_type": "raw",
    "source": [],
    "metadata": {
     "collapsed": false
    }
   }
  }
 },
 "nbformat": 4,
 "nbformat_minor": 0
}