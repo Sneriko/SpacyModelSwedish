{
 "cells": [
  {
   "cell_type": "code",
   "execution_count": 1,
   "metadata": {
    "collapsed": true
   },
   "outputs": [],
   "source": [
    "import spacy\n",
    "import pickle\n",
    "import pandas as pd"
   ]
  },
  {
   "cell_type": "code",
   "execution_count": 2,
   "outputs": [],
   "source": [
    "with open('pickleObjects/corefDictObject', 'rb') as f:\n",
    "    corefAnnot = pickle.load(f)\n",
    "\n",
    "with open('pickleObjects/speakersTokObject', 'rb') as f:\n",
    "    speakersTok = pickle.load(f)"
   ],
   "metadata": {
    "collapsed": false,
    "pycharm": {
     "name": "#%%\n"
    }
   }
  },
  {
   "cell_type": "code",
   "execution_count": 3,
   "outputs": [],
   "source": [
    "sweCorp = ''\n",
    "\n",
    "with open('../Data/Datasets/Europarl/Documents/ep-09-03-11-018/text/ep-09-03-11-018-sv.txt') as sweDoc:\n",
    "    for line in sweDoc:\n",
    "        sweCorp = sweCorp + line"
   ],
   "metadata": {
    "collapsed": false,
    "pycharm": {
     "name": "#%%\n"
    }
   }
  },
  {
   "cell_type": "code",
   "execution_count": 4,
   "outputs": [],
   "source": [
    "nlp = spacy.load('../Models/SwedishModel')\n",
    "doc = nlp(sweCorp)"
   ],
   "metadata": {
    "collapsed": false,
    "pycharm": {
     "name": "#%%\n"
    }
   }
  },
  {
   "cell_type": "code",
   "execution_count": 5,
   "outputs": [],
   "source": [
    "df2 = pd.DataFrame({'DocName': 'ep-09-03-11-018',\n",
    "                    'DocID': pd.Series(0, index = list(range(len(doc))), dtype='int32'),\n",
    "                    'TokenID': 1,\n",
    "                    'Text': '',\n",
    "                    'Tag': '',\n",
    "                    'Speaker': '',\n",
    "                    'Corefs': '-',})"
   ],
   "metadata": {
    "collapsed": false,
    "pycharm": {
     "name": "#%%\n"
    }
   }
  },
  {
   "cell_type": "code",
   "execution_count": 6,
   "outputs": [],
   "source": [
    "tokenIdDict = {}\n",
    "\n",
    "for sent in doc.sents:\n",
    "    idTok = 0\n",
    "    for token in sent:\n",
    "        key = str(token.i)\n",
    "        tokenIdDict[key] = idTok\n",
    "        if token.text != '\\n':\n",
    "            idTok += 1"
   ],
   "metadata": {
    "collapsed": false,
    "pycharm": {
     "name": "#%%\n"
    }
   }
  },
  {
   "cell_type": "code",
   "execution_count": 7,
   "outputs": [],
   "source": [
    "for i in range(len(doc)):\n",
    "    key = str(i)\n",
    "    df2.at[i, 'TokenID'] = tokenIdDict[key] \n",
    "    "
   ],
   "metadata": {
    "collapsed": false,
    "pycharm": {
     "name": "#%%\n"
    }
   }
  },
  {
   "cell_type": "code",
   "execution_count": 8,
   "outputs": [],
   "source": [
    "for i, token in enumerate(doc):\n",
    "    df2.at[i, 'Text'] = token.text\n",
    "    df2.at[i, 'Tag'] = token.tag_"
   ],
   "metadata": {
    "collapsed": false,
    "pycharm": {
     "name": "#%%\n"
    }
   }
  },
  {
   "cell_type": "code",
   "execution_count": 9,
   "outputs": [],
   "source": [
    "tokIndex = 0\n",
    "tokStartIndex = 0\n",
    "for sent in doc.sents:\n",
    "    for i, token in enumerate(sent):\n",
    "        if speakersTok.get(tokIndex - i) is not None:\n",
    "            df2.at[tokIndex, 'Speaker'] = speakersTok[tokIndex - i]\n",
    "        tokIndex += 1"
   ],
   "metadata": {
    "collapsed": false,
    "pycharm": {
     "name": "#%%\n"
    }
   }
  },
  {
   "cell_type": "code",
   "execution_count": 10,
   "outputs": [],
   "source": [
    "for i in range(len(doc)):\n",
    "    key = str(i)\n",
    "    if corefAnnot.get(key) is not None:\n",
    "        df2.at[i, 'Corefs'] = corefAnnot[key]"
   ],
   "metadata": {
    "collapsed": false,
    "pycharm": {
     "name": "#%%\n"
    }
   }
  },
  {
   "cell_type": "code",
   "execution_count": 11,
   "outputs": [],
   "source": [
    "df2 = df2[df2.Text != '\\n'].reset_index(drop=True)"
   ],
   "metadata": {
    "collapsed": false,
    "pycharm": {
     "name": "#%%\n"
    }
   }
  },
  {
   "cell_type": "code",
   "execution_count": 12,
   "outputs": [],
   "source": [
    "with open('Dataframes/ep-09-03-11-018', 'wb') as f:\n",
    "    pickle.dump(df2, f)\n"
   ],
   "metadata": {
    "collapsed": false,
    "pycharm": {
     "name": "#%%\n"
    }
   }
  }
 ],
 "metadata": {
  "kernelspec": {
   "display_name": "Python 3",
   "language": "python",
   "name": "python3"
  },
  "language_info": {
   "codemirror_mode": {
    "name": "ipython",
    "version": 2
   },
   "file_extension": ".py",
   "mimetype": "text/x-python",
   "name": "python",
   "nbconvert_exporter": "python",
   "pygments_lexer": "ipython2",
   "version": "2.7.6"
  }
 },
 "nbformat": 4,
 "nbformat_minor": 0
}