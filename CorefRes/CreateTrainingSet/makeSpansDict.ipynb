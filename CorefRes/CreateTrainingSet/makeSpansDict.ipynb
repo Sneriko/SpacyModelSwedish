{
 "cells": [
  {
   "cell_type": "code",
   "execution_count": 1,
   "metadata": {
    "collapsed": true
   },
   "outputs": [],
   "source": [
    "import spacy\n",
    "nlp = spacy.load('en_core_web_md')"
   ]
  },
  {
   "cell_type": "code",
   "execution_count": 2,
   "outputs": [
    {
     "data": {
      "text/plain": "<spacy.lang.en.English at 0x7f6bc4686810>"
     },
     "execution_count": 2,
     "metadata": {},
     "output_type": "execute_result"
    }
   ],
   "source": [
    "import neuralcoref\n",
    "neuralcoref.add_to_pipe(nlp)"
   ],
   "metadata": {
    "collapsed": false,
    "pycharm": {
     "name": "#%%\n"
    }
   }
  },
  {
   "cell_type": "code",
   "execution_count": 3,
   "outputs": [],
   "source": [
    "corp = ''\n",
    "with open('../Data/Datasets/Europarl/Documents/ep-00-01-17/ep-00-01-17-en.txt') as f:\n",
    "    for line in f:\n",
    "        corp = corp + line"
   ],
   "metadata": {
    "collapsed": false,
    "pycharm": {
     "name": "#%%\n"
    }
   }
  },
  {
   "cell_type": "code",
   "execution_count": 4,
   "outputs": [],
   "source": [
    "sweCorp = ''\n",
    "with open('../Data/Datasets/Europarl/Documents/ep-00-01-17/ep-00-01-17-sv.txt') as f:\n",
    "    for line in f:\n",
    "        sweCorp = sweCorp + line\n"
   ],
   "metadata": {
    "collapsed": false,
    "pycharm": {
     "name": "#%%\n"
    }
   }
  },
  {
   "cell_type": "code",
   "execution_count": 5,
   "outputs": [],
   "source": [
    "tokenizerEng = spacy.load('en_core_web_md', disable=['tagger', 'parser', 'ner'])\n",
    "tokenizerSwe = spacy.load('../Models/SwedishModel', disable=['tagger', 'parser', 'ner'])"
   ],
   "metadata": {
    "collapsed": false,
    "pycharm": {
     "name": "#%%\n"
    }
   }
  },
  {
   "cell_type": "code",
   "execution_count": 6,
   "outputs": [
    {
     "name": "stdout",
     "output_type": "stream",
     "text": [
      "20006\n"
     ]
    }
   ],
   "source": [
    "startTokenEng = 0\n",
    "startTokenSwe = 0\n",
    "alignments = {}\n",
    "\n",
    "with open('../Data/Datasets/Europarl/Documents/ep-00-01-17/ep-00-01-17-en.txt') as engDoc:\n",
    "    with open('../Data/Datasets/Europarl/Documents/ep-00-01-17/alignments.fw') as fa:\n",
    "        with open('../Data/Datasets/Europarl/Documents/ep-00-01-17/ep-00-01-17-sv.txt') as sweDoc:\n",
    "            for lineAli in fa:\n",
    "                lineEngDoc = engDoc.readline()\n",
    "                lineSweDoc = sweDoc.readline()\n",
    "                tokEng = tokenizerEng(lineEngDoc)\n",
    "                tokSwe = tokenizerSwe(lineSweDoc)\n",
    "\n",
    "                alignmentListTemp = lineAli.split()\n",
    "                for ali in alignmentListTemp:\n",
    "                    aliPair = ali.split('-')\n",
    "                    key = str(int(aliPair[0]) + startTokenEng)\n",
    "                    alignments[key] = int(aliPair[1]) + startTokenSwe\n",
    "\n",
    "                startTokenEng = startTokenEng + len(tokEng)\n",
    "                startTokenSwe = startTokenSwe + len(tokSwe)\n"
   ],
   "metadata": {
    "collapsed": false,
    "pycharm": {
     "name": "#%%\n"
    }
   }
  },
  {
   "cell_type": "code",
   "execution_count": null,
   "outputs": [],
   "source": [
    "doc = nlp(corp)\n"
   ],
   "metadata": {
    "collapsed": false,
    "pycharm": {
     "name": "#%%\n"
    }
   }
  },
  {
   "cell_type": "code",
   "execution_count": 7,
   "outputs": [],
   "source": [
    "spansList = []\n",
    "\n",
    "for index, cluster in enumerate(doc._.coref_clusters):\n",
    "    clusterSpansList = []\n",
    "    for mention in doc._.coref_clusters[index].mentions:\n",
    "        mentionSpan = []\n",
    "        aligns = []\n",
    "        for i in range(mention.start, mention.end):\n",
    "            key = str(i)\n",
    "            if alignments.get(key) is not None:\n",
    "                aligns.append(alignments.get(key))\n",
    "        if len(aligns) > 0:\n",
    "            mentionSpan.append(min(aligns))\n",
    "            mentionSpan.append(max(aligns) + 1)\n",
    "        else:\n",
    "            mentionSpan.append(-1)\n",
    "        clusterSpansList.append(mentionSpan)\n",
    "    spansList.append(clusterSpansList)"
   ],
   "metadata": {
    "collapsed": false,
    "pycharm": {
     "name": "#%%\n"
    }
   }
  },
  {
   "cell_type": "code",
   "execution_count": 37,
   "outputs": [
    {
     "name": "stdout",
     "output_type": "stream",
     "text": [
      "vi\n"
     ]
    }
   ],
   "source": [
    "docSwe = tokenizerSwe(sweCorp)\n",
    "\n",
    "for ind in range(17774, 17775):\n",
    "    print(docSwe[ind])\n"
   ],
   "metadata": {
    "collapsed": false,
    "pycharm": {
     "name": "#%%\n"
    }
   }
  },
  {
   "cell_type": "code",
   "execution_count": 13,
   "outputs": [],
   "source": [
    "import pickle\n",
    "\n",
    "with open('../Data/Datasets/Europarl/Documents/ep-00-01-17/corefSpansObject', 'wb') as f:\n",
    "    pickle.dump(spansList, f)\n"
   ],
   "metadata": {
    "collapsed": false,
    "pycharm": {
     "name": "#%%\n"
    }
   }
  }
 ],
 "metadata": {
  "kernelspec": {
   "display_name": "Python 3",
   "language": "python",
   "name": "python3"
  },
  "language_info": {
   "codemirror_mode": {
    "name": "ipython",
    "version": 2
   },
   "file_extension": ".py",
   "mimetype": "text/x-python",
   "name": "python",
   "nbconvert_exporter": "python",
   "pygments_lexer": "ipython2",
   "version": "2.7.6"
  }
 },
 "nbformat": 4,
 "nbformat_minor": 0
}