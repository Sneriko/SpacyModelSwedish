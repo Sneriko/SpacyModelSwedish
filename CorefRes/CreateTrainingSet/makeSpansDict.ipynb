{
 "cells": [
  {
   "cell_type": "code",
   "execution_count": 1,
   "metadata": {
    "collapsed": true
   },
   "outputs": [],
   "source": [
    "import spacy\n",
    "nlp = spacy.load('en_core_web_md')"
   ]
  },
  {
   "cell_type": "code",
   "execution_count": 2,
   "outputs": [
    {
     "data": {
      "text/plain": "<spacy.lang.en.English at 0x7fa64bb70fd0>"
     },
     "execution_count": 2,
     "metadata": {},
     "output_type": "execute_result"
    }
   ],
   "source": [
    "import neuralcoref\n",
    "neuralcoref.add_to_pipe(nlp)"
   ],
   "metadata": {
    "collapsed": false,
    "pycharm": {
     "name": "#%%\n"
    }
   }
  },
  {
   "cell_type": "code",
   "execution_count": 3,
   "outputs": [],
   "source": [
    "parts = []\n",
    "corp = ''\n",
    "with open('../Data/Datasets/Europarl/Documents/ep-09-03-11-018/text/ep-09-03-11-018-en.txt') as f:\n",
    "    for index, line in enumerate(f):\n",
    "        corp = corp + line\n",
    "        if index % 20 == 0:\n",
    "            parts.append(corp)\n",
    "            corp = ''"
   ],
   "metadata": {
    "collapsed": false,
    "pycharm": {
     "name": "#%%\n"
    }
   }
  },
  {
   "cell_type": "code",
   "execution_count": 4,
   "outputs": [],
   "source": [
    "docs = []\n",
    "for part in parts:\n",
    "    doc = nlp(part)\n",
    "    docs.append(doc)\n"
   ],
   "metadata": {
    "collapsed": false,
    "pycharm": {
     "name": "#%%\n"
    }
   }
  },
  {
   "cell_type": "code",
   "execution_count": 5,
   "outputs": [],
   "source": [
    "sweCorp = ''\n",
    "with open('../Data/Datasets/Europarl/Documents/ep-09-03-11-018/text/ep-09-03-11-018-sv.txt') as f:\n",
    "    for line in f:\n",
    "        sweCorp = sweCorp + line\n"
   ],
   "metadata": {
    "collapsed": false,
    "pycharm": {
     "name": "#%%\n"
    }
   }
  },
  {
   "cell_type": "code",
   "execution_count": 6,
   "outputs": [],
   "source": [
    "tokenizerEng = spacy.load('en_core_web_md', disable=['tagger', 'parser', 'ner'])\n",
    "tokenizerSwe = spacy.load('../Models/SwedishModel', disable=['tagger', 'parser', 'ner'])"
   ],
   "metadata": {
    "collapsed": false,
    "pycharm": {
     "name": "#%%\n"
    }
   }
  },
  {
   "cell_type": "code",
   "execution_count": 7,
   "outputs": [],
   "source": [
    "startTokenEng = 0\n",
    "startTokenSwe = 0\n",
    "alignments = {}\n",
    "\n",
    "with open('../Data/Datasets/Europarl/Documents/ep-09-03-11-018/text/ep-09-03-11-018-en.txt') as engDoc:\n",
    "    with open('../Data/Datasets/Europarl/Documents/ep-09-03-11-018/alignments/ali.sym') as fa:\n",
    "        with open('../Data/Datasets/Europarl/Documents/ep-09-03-11-018/text/ep-09-03-11-018-sv.txt') as sweDoc:\n",
    "            for lineAli in fa:\n",
    "                lineEngDoc = engDoc.readline()\n",
    "                lineSweDoc = sweDoc.readline()\n",
    "                tokEng = tokenizerEng(lineEngDoc)\n",
    "                tokSwe = tokenizerSwe(lineSweDoc)\n",
    "\n",
    "                alignmentListTemp = lineAli.split()\n",
    "                for ali in alignmentListTemp:\n",
    "                    aliPair = ali.split('-')\n",
    "                    key = str(int(aliPair[0]) + startTokenEng)\n",
    "                    if alignments.get(key) is None:\n",
    "                        alignments[key] = [int(aliPair[1]) + startTokenSwe]\n",
    "                    else:\n",
    "                        alignments.get(key).append(int(aliPair[1]) + startTokenSwe)\n",
    "\n",
    "                startTokenEng = startTokenEng + len(tokEng)\n",
    "                startTokenSwe = startTokenSwe + len(tokSwe)\n"
   ],
   "metadata": {
    "collapsed": false,
    "pycharm": {
     "name": "#%%\n"
    }
   }
  },
  {
   "cell_type": "code",
   "execution_count": 9,
   "outputs": [],
   "source": [
    "spansList = []\n",
    "\n",
    "for index, cluster in enumerate(doc._.coref_clusters):\n",
    "    clusterSpansList = []\n",
    "    for mention in doc._.coref_clusters[index].mentions:\n",
    "        mentionSpan = []\n",
    "        aligns = []\n",
    "        for i in range(mention.start, mention.end):\n",
    "            key = str(i)\n",
    "            if alignments.get(key) is not None:\n",
    "                for wordIndex in alignments.get(key):\n",
    "                    aligns.append(wordIndex)\n",
    "            else:\n",
    "                continue\n",
    "        aligns = sorted(set(aligns))\n",
    "        maxContinuousSpan = []\n",
    "        if len(aligns) == 0:\n",
    "            maxContinuousSpan.append(-1)\n",
    "        elif len(aligns) == 1:\n",
    "            maxContinuousSpan.append(aligns[0])\n",
    "            maxContinuousSpan.append(aligns[0] + 1)\n",
    "        else:\n",
    "            start = aligns[0]\n",
    "            end = aligns[0]\n",
    "            spansInAligns = []\n",
    "            current = 0\n",
    "\n",
    "            for i, tokenIndex in enumerate(aligns):\n",
    "                if tokenIndex == start + current:\n",
    "                    end = tokenIndex\n",
    "                    current += 1\n",
    "                    if tokenIndex == aligns[-1]:\n",
    "                        currentSpan = [start, end + 1]\n",
    "                        spansInAligns.append(currentSpan)\n",
    "                    else:\n",
    "                        continue\n",
    "                else:\n",
    "                    currentSpan = [start, end + 1]\n",
    "                    spansInAligns.append(currentSpan)\n",
    "                    start = tokenIndex\n",
    "                    end = tokenIndex\n",
    "                    current = 1\n",
    "            #maxContinuousSpan.append(spansInAligns[0])\n",
    "            maxlength = 0\n",
    "            for conSpan in spansInAligns:\n",
    "                if conSpan[1] - conSpan[0] > maxlength:\n",
    "                    maxlength = conSpan[1] - conSpan[0]\n",
    "                    maxContinuousSpan = conSpan\n",
    "                else:\n",
    "                    continue\n",
    "\n",
    "        clusterSpansList.append(maxContinuousSpan)\n",
    "    spansList.append(clusterSpansList)"
   ],
   "metadata": {
    "collapsed": false,
    "pycharm": {
     "name": "#%%\n"
    }
   }
  },
  {
   "cell_type": "code",
   "execution_count": 10,
   "outputs": [],
   "source": [
    "import pickle\n",
    "\n",
    "with open('../Coref/pickleObjects/corefSpansObject', 'wb') as f:\n",
    "    pickle.dump(spansList, f)\n"
   ],
   "metadata": {
    "collapsed": false,
    "pycharm": {
     "name": "#%%\n"
    }
   }
  }
 ],
 "metadata": {
  "kernelspec": {
   "display_name": "Python 3",
   "language": "python",
   "name": "python3"
  },
  "language_info": {
   "codemirror_mode": {
    "name": "ipython",
    "version": 2
   },
   "file_extension": ".py",
   "mimetype": "text/x-python",
   "name": "python",
   "nbconvert_exporter": "python",
   "pygments_lexer": "ipython2",
   "version": "2.7.6"
  }
 },
 "nbformat": 4,
 "nbformat_minor": 0
}