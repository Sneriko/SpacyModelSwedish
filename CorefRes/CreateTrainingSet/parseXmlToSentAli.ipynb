{
 "cells": [
  {
   "cell_type": "code",
   "execution_count": null,
   "metadata": {
    "collapsed": true,
    "pycharm": {
     "is_executing": false
    }
   },
   "outputs": [],
   "source": [
    "from xml.etree import ElementTree\n",
    "from xml.etree.ElementTree import iterparse"
   ]
  },
  {
   "cell_type": "code",
   "execution_count": 2,
   "outputs": [],
   "source": [
    "def parseSentFile(fileToParse):\n",
    "    sentences = []\n",
    "    tree = ElementTree.parse(fileToParse)\n",
    "    root = tree.getroot()\n",
    "    for sent in root.iter('s'):\n",
    "        sentences.append(sent.text)\n",
    "    return sentences\n",
    "    \n",
    "                \n",
    "        \n",
    "        "
   ],
   "metadata": {
    "collapsed": false,
    "pycharm": {
     "name": "#%%\n",
     "is_executing": false
    }
   }
  },
  {
   "cell_type": "code",
   "execution_count": 4,
   "outputs": [],
   "source": [
    "def parseLinkFile(fileToParse):\n",
    "    mergedLinks = []\n",
    "    sweLinks = []\n",
    "    engLinks = []\n",
    "    linkStrings = []\n",
    "    \n",
    "    tree = ElementTree.parse(fileToParse)\n",
    "    root = tree.getroot()\n",
    "    \n",
    "    for ls in tree.iter('link'):\n",
    "        linkStrings.append(ls.attrib['xtargets'])\n",
    "    \n",
    "    for ls in linkStrings:\n",
    "        t1 = ls.split(';')\n",
    "        eLinks = t1[0].split(' ')\n",
    "        sLinks = t1[1].split(' ')\n",
    "        engLinks.append(eLinks)\n",
    "        sweLinks.append(sLinks)\n",
    "    mergedLinks.append(engLinks)\n",
    "    mergedLinks.append(sweLinks)\n",
    "    return mergedLinks\n"
   ],
   "metadata": {
    "collapsed": false,
    "pycharm": {
     "name": "#%%\n",
     "is_executing": false
    }
   }
  },
  {
   "cell_type": "code",
   "execution_count": 5,
   "outputs": [],
   "source": [
    "linkFile = open('../Data/Datasets/Europarl/Documents/ep-00-01-17-links.xml')\n",
    "engFileToParse = open('../Data/Datasets/Europarl/Documents/ep-00-01-17-en.xml')\n",
    "sweFileToParse = open('../Data/Datasets/Europarl/Documents/ep-00-01-17-sv.xml')\n",
    "engOutFile = open('../Data/Datasets/Europarl/Documents/ep-00-01-17-en.txt', 'w+')\n",
    "sweOutFile = open('../Data/Datasets/Europarl/Documents/ep-00-01-17-sv.txt', 'w+')\n",
    "\n",
    "engSentences = parseSentFile(engFileToParse)\n",
    "sweSentences = parseSentFile(sweFileToParse)\n",
    "\n",
    "mergedLinks = parseLinkFile(linkFile)\n",
    "\n",
    "engLinks = mergedLinks[0]\n",
    "sweLinks = mergedLinks[1]\n",
    "\n",
    "for linkLine in engLinks:\n",
    "    for j in linkLine:\n",
    "        k = int(j)\n",
    "        engOutFile.write(engSentences[k - 1])\n",
    "    engOutFile.write('\\n')\n",
    "\n",
    "for linkLine in sweLinks:\n",
    "    for j in linkLine:\n",
    "        k = int(j)\n",
    "        sweOutFile.write(sweSentences[k - 1])\n",
    "    sweOutFile.write('\\n')\n",
    "    \n",
    "sweOutFile.close()\n",
    "engFileToParse.close()\n",
    "sweFileToParse.close()\n",
    "engOutFile.close()\n",
    "sweOutFile.close()\n",
    "\n"
   ],
   "metadata": {
    "collapsed": false,
    "pycharm": {
     "name": "#%%\n",
     "is_executing": false
    }
   }
  }
 ],
 "metadata": {
  "kernelspec": {
   "display_name": "Python 3",
   "language": "python",
   "name": "python3"
  },
  "language_info": {
   "codemirror_mode": {
    "name": "ipython",
    "version": 2
   },
   "file_extension": ".py",
   "mimetype": "text/x-python",
   "name": "python",
   "nbconvert_exporter": "python",
   "pygments_lexer": "ipython2",
   "version": "2.7.6"
  },
  "pycharm": {
   "stem_cell": {
    "cell_type": "raw",
    "source": [],
    "metadata": {
     "collapsed": false
    }
   }
  }
 },
 "nbformat": 4,
 "nbformat_minor": 0
}