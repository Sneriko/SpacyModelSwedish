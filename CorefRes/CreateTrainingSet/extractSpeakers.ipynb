{
 "cells": [
  {
   "cell_type": "code",
   "execution_count": 1,
   "metadata": {
    "collapsed": true
   },
   "outputs": [],
   "source": [
    "import spacy\n",
    "from xml.etree import ElementTree\n",
    "import pickle"
   ]
  },
  {
   "cell_type": "code",
   "execution_count": 2,
   "outputs": [],
   "source": [
    "dictSpeakerSents = {}\n",
    "tree = ElementTree.parse('../Data/Datasets/Europarl/Documents/ep-00-01-17/ep-00-01-17-sv.xml')\n",
    "root = tree.getroot()\n",
    "for speaker in root.iter('SPEAKER'):\n",
    "    for sent in speaker.iter('s'):\n",
    "        dictSpeakerSents[sent.attrib['id']] = speaker.attrib['NAME'].replace(' ', '_')\n",
    "\n"
   ],
   "metadata": {
    "collapsed": false,
    "pycharm": {
     "name": "#%%\n"
    }
   }
  },
  {
   "cell_type": "code",
   "execution_count": 3,
   "outputs": [],
   "source": [
    "dictSpeakerLines = {}\n",
    "tree = ElementTree.parse('../Data/Datasets/Europarl/Documents/ep-00-01-17/ep-00-01-17-links.xml')\n",
    "root = tree.getroot()\n",
    "lineNumber = 0\n",
    "\n",
    "for link in root.iter('link'):\n",
    "    sweLinks = link.attrib['xtargets'].split(';')[1].split()\n",
    "    noSpeakerInLine = False\n",
    "\n",
    "    for sentNumber in sweLinks:\n",
    "        if sentNumber not in dictSpeakerSents:\n",
    "            noSpeakerInLine = True\n",
    "\n",
    "    for sentNumber in sweLinks:\n",
    "        if not noSpeakerInLine:\n",
    "            dictSpeakerLines[lineNumber] = dictSpeakerSents[sentNumber]\n",
    "\n",
    "    lineNumber += 1\n"
   ],
   "metadata": {
    "collapsed": false,
    "pycharm": {
     "name": "#%%\n"
    }
   }
  },
  {
   "cell_type": "code",
   "execution_count": 4,
   "outputs": [],
   "source": [
    "nlp = spacy.load('../Models/SwedishModel', disable=['tagger', 'parser', 'ner'])"
   ],
   "metadata": {
    "collapsed": false,
    "pycharm": {
     "name": "#%%\n"
    }
   }
  },
  {
   "cell_type": "code",
   "execution_count": 5,
   "outputs": [],
   "source": [
    "dictSpeakerTokens = {}\n",
    "tokenIndex = 0\n",
    "with open('../Data/Datasets/Europarl/Documents/ep-00-01-17/ep-00-01-17-sv.txt') as sweDoc:\n",
    "    for lineIndex, line in enumerate(sweDoc):\n",
    "        doc = nlp(line)\n",
    "        if lineIndex in dictSpeakerLines:\n",
    "            for i, token in enumerate(doc):\n",
    "                dictSpeakerTokens[tokenIndex + i] = dictSpeakerLines[lineIndex]\n",
    "        else:\n",
    "            for i, token in enumerate(doc):\n",
    "                dictSpeakerTokens[tokenIndex + i] = None\n",
    "        tokenIndex += len(doc)\n",
    "\n"
   ],
   "metadata": {
    "collapsed": false,
    "pycharm": {
     "name": "#%%\n"
    }
   }
  },
  {
   "cell_type": "code",
   "execution_count": 3,
   "outputs": [],
   "source": [
    "sweCorp = ''\n",
    "\n",
    "with open('../Data/Datasets/Europarl/Documents/ep-00-01-17/ep-00-01-17-sv.txt') as sweDoc:\n",
    "    for line in sweDoc:\n",
    "        sweCorp = sweCorp + line\n",
    "\n",
    "doc = nlp(sweCorp)\n",
    "ex = len(doc)"
   ],
   "metadata": {
    "collapsed": false,
    "pycharm": {
     "name": "#%%\n"
    }
   }
  },
  {
   "cell_type": "code",
   "execution_count": 11,
   "outputs": [],
   "source": [
    "assert (tokenIndex == ex), \"Number of Tokens not matching\""
   ],
   "metadata": {
    "collapsed": false,
    "pycharm": {
     "name": "#%%\n"
    }
   }
  },
  {
   "cell_type": "code",
   "execution_count": 6,
   "outputs": [],
   "source": [
    "with open('speakersTokObject', 'wb') as f:\n",
    "    pickle.dump(dictSpeakerTokens, f)\n"
   ],
   "metadata": {
    "collapsed": false,
    "pycharm": {
     "name": "#%%\n"
    }
   }
  }
 ],
 "metadata": {
  "kernelspec": {
   "display_name": "Python 3",
   "language": "python",
   "name": "python3"
  },
  "language_info": {
   "codemirror_mode": {
    "name": "ipython",
    "version": 2
   },
   "file_extension": ".py",
   "mimetype": "text/x-python",
   "name": "python",
   "nbconvert_exporter": "python",
   "pygments_lexer": "ipython2",
   "version": "2.7.6"
  }
 },
 "nbformat": 4,
 "nbformat_minor": 0
}