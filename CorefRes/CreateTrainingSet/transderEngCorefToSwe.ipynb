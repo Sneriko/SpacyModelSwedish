{
 "cells": [
  {
   "cell_type": "code",
   "execution_count": 1,
   "metadata": {
    "collapsed": true
   },
   "outputs": [],
   "source": [
    "import spacy\n",
    "import pickle\n",
    "import neuralcoref.train.document as dc"
   ]
  },
  {
   "cell_type": "code",
   "execution_count": 2,
   "outputs": [],
   "source": [
    "with open('pickleObjects/corefSpansObject', 'rb') as f:\n",
    "    corefSpans = pickle.load(f)"
   ],
   "metadata": {
    "collapsed": false,
    "pycharm": {
     "name": "#%%\n"
    }
   }
  },
  {
   "cell_type": "code",
   "execution_count": 3,
   "outputs": [],
   "source": [
    "numOfMinus = 0\n",
    "for i in corefSpans:\n",
    "    for j in i:\n",
    "        for k in j:\n",
    "            if k == -1 and len(i) < 3:\n",
    "                numOfMinus += 1\n",
    "                break"
   ],
   "metadata": {
    "collapsed": false,
    "pycharm": {
     "name": "#%%\n"
    }
   }
  },
  {
   "cell_type": "code",
   "execution_count": 4,
   "outputs": [],
   "source": [
    "sweCorp = ''\n",
    "\n",
    "with open('../Data/Datasets/Europarl/Documents/ep-09-03-11-018/text/ep-09-03-11-018-sv.txt') as sweDoc:\n",
    "    for line in sweDoc:\n",
    "        sweCorp = sweCorp + line\n",
    "\n"
   ],
   "metadata": {
    "collapsed": false,
    "pycharm": {
     "name": "#%%\n"
    }
   }
  },
  {
   "cell_type": "code",
   "execution_count": 5,
   "outputs": [],
   "source": [
    "nlp = spacy.load('../Models/SwedishModel')\n",
    "doc = nlp(sweCorp)"
   ],
   "metadata": {
    "collapsed": false,
    "pycharm": {
     "name": "#%%\n"
    }
   }
  },
  {
   "cell_type": "code",
   "execution_count": 6,
   "outputs": [],
   "source": [
    "numOfSingCoref = 0\n",
    "corefSpansSwe = []\n",
    "numOfCorefs = 0\n",
    "for clusterSub in corefSpans:\n",
    "    corefClusterSwe = []\n",
    "    for ment in clusterSub:\n",
    "        corefSwe = []\n",
    "        startOfLine = 0\n",
    "        endOfLine = 0\n",
    "        lineText = ''\n",
    "        mentionText = ''\n",
    "        if ment[0] != -1:\n",
    "            startOfLine = ment[0]\n",
    "            endOfLine = ment[-1]\n",
    "            while doc[startOfLine].text != '\\n' and startOfLine != 0:\n",
    "                startOfLine -= 1\n",
    "            startOfLine += 1\n",
    "            while doc[endOfLine].text != '\\n':\n",
    "                endOfLine += 1\n",
    "\n",
    "            for tok in range(startOfLine, endOfLine):\n",
    "                lineText = lineText + doc[tok].text + ' '\n",
    "            lineText.rstrip()\n",
    "        else:\n",
    "            continue\n",
    "            \n",
    "        #mentionSpanDoc = nlp(mentionText)\n",
    "        lineDoc = nlp(lineText)\n",
    "\n",
    "        #mentionsInSpan = dc.extract_mentions_spans(mentionSpanDoc, [])\n",
    "        mentionsInLine = dc.extract_mentions_spans(lineDoc, [])\n",
    "\n",
    "        mentionsInSpan = []\n",
    "\n",
    "        for span in mentionsInLine:\n",
    "            if (span.start + startOfLine) >= ment[0] and (span.end + startOfLine) <= ment[-1]:\n",
    "                mentionsInSpan.append(span)\n",
    "\n",
    "        if len(mentionsInSpan) == 0:\n",
    "            continue\n",
    "\n",
    "        invalidCoref = False\n",
    "\n",
    "        \"\"\"for span in mentionsInLine:\n",
    "            if (span.end + startOfLine) > mention[1] > (span.start + startOfLine) > mention[0] or (span.start + startOfLine) < mention[0] < (span.end + startOfLine) < mention[1]:\n",
    "                invalidCoref = True\"\"\"\n",
    "\n",
    "        maxLength = 0\n",
    "        maxSpan = 0\n",
    "        for subSpan in mentionsInSpan:\n",
    "            if subSpan.end - subSpan.start > maxLength:\n",
    "                maxLength = subSpan.end - subSpan.start\n",
    "                maxSpan = subSpan\n",
    "\n",
    "        \"\"\"for span in mentionsInSpan:\n",
    "            if span.start < maxSpan.start or span.end > maxSpan.end:\n",
    "                invalidCoref = True\"\"\"\n",
    "\n",
    "        if invalidCoref:\n",
    "            continue\n",
    "        elif not invalidCoref:\n",
    "            corefSwe.append(maxSpan.start + startOfLine)\n",
    "            corefSwe.append(maxSpan.end + startOfLine)\n",
    "            corefClusterSwe.append(corefSwe)\n",
    "\n",
    "    if len(corefClusterSwe) > 1:\n",
    "        res = list(set(tuple(sorted(sub)) for sub in corefClusterSwe))\n",
    "        corefSpansSwe.append(res)\n",
    "    else:\n",
    "        numOfSingCoref += 1"
   ],
   "metadata": {
    "collapsed": false,
    "pycharm": {
     "name": "#%%\n"
    }
   }
  },
  {
   "cell_type": "code",
   "execution_count": 6,
   "outputs": [],
   "source": [
    "\n"
   ],
   "metadata": {
    "collapsed": false,
    "pycharm": {
     "name": "#%%\n"
    }
   }
  },
  {
   "cell_type": "code",
   "execution_count": 7,
   "outputs": [],
   "source": [
    "noOfCorefsEng = 0\n",
    "for sublist in corefSpans:\n",
    "    for span in sublist:\n",
    "        if span[0] != -1:\n",
    "            noOfCorefsEng += 1"
   ],
   "metadata": {
    "collapsed": false,
    "pycharm": {
     "name": "#%%\n"
    }
   }
  },
  {
   "cell_type": "code",
   "execution_count": 8,
   "outputs": [],
   "source": [
    "noOfCorefsSwe = 0\n",
    "for sublist in corefSpansSwe:\n",
    "    for span in sublist:\n",
    "        noOfCorefsSwe += 1"
   ],
   "metadata": {
    "collapsed": false,
    "pycharm": {
     "name": "#%%\n"
    }
   }
  },
  {
   "cell_type": "code",
   "execution_count": 9,
   "outputs": [],
   "source": [
    "with open('pickleObjects/corefSpansSweObject', 'wb') as f:\n",
    "    pickle.dump(corefSpansSwe, f)\n",
    "\n"
   ],
   "metadata": {
    "collapsed": false,
    "pycharm": {
     "name": "#%%\n"
    }
   }
  }
 ],
 "metadata": {
  "kernelspec": {
   "display_name": "Python 3",
   "language": "python",
   "name": "python3"
  },
  "language_info": {
   "codemirror_mode": {
    "name": "ipython",
    "version": 2
   },
   "file_extension": ".py",
   "mimetype": "text/x-python",
   "name": "python",
   "nbconvert_exporter": "python",
   "pygments_lexer": "ipython2",
   "version": "2.7.6"
  }
 },
 "nbformat": 4,
 "nbformat_minor": 0
}