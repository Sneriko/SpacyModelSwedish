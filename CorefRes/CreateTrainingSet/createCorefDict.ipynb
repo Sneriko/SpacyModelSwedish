{
 "cells": [
  {
   "cell_type": "code",
   "execution_count": 1,
   "metadata": {
    "collapsed": true
   },
   "outputs": [],
   "source": [
    "import pickle"
   ]
  },
  {
   "cell_type": "code",
   "execution_count": 2,
   "outputs": [],
   "source": [
    "with open('corefSpansSweObject', 'rb') as f:\n",
    "    corefSpans = pickle.load(f)"
   ],
   "metadata": {
    "collapsed": false,
    "pycharm": {
     "name": "#%%\n"
    }
   }
  },
  {
   "cell_type": "code",
   "execution_count": 3,
   "outputs": [],
   "source": [
    "corefClusterId = 1\n",
    "corefDict = {}\n",
    "for cluster in corefSpans:\n",
    "    for span in cluster:\n",
    "        if span[1] - span[0] == 1:\n",
    "            key = str(span[0])\n",
    "            if corefDict.get(key) is not None:\n",
    "                corefDict[key] = corefDict[key] + '|(' + str(corefClusterId) + ')'\n",
    "            else:\n",
    "                corefDict[key] = '(' + str(corefClusterId) + ')'\n",
    "        else:\n",
    "            keyStart = str(span[0])\n",
    "            keyEnd = str(span[1] - 1)\n",
    "            if corefDict.get(keyStart) is not None:\n",
    "                corefDict[keyStart] = corefDict[keyStart] + '|(' + str(corefClusterId)\n",
    "            else:\n",
    "                corefDict[keyStart] = '(' + str(corefClusterId)\n",
    "            if corefDict.get(keyEnd) is not None:\n",
    "                corefDict[keyEnd] = corefDict[keyEnd] + '|' + str(corefClusterId) + ')'\n",
    "            else:\n",
    "                corefDict[keyEnd] = str(corefClusterId) + ')'\n",
    "    corefClusterId += 1\n",
    "\n"
   ],
   "metadata": {
    "collapsed": false,
    "pycharm": {
     "name": "#%%\n"
    }
   }
  },
  {
   "cell_type": "code",
   "execution_count": 4,
   "outputs": [],
   "source": [
    "with open('corefDictObject', 'wb') as f:\n",
    "    pickle.dump(corefDict, f)"
   ],
   "metadata": {
    "collapsed": false,
    "pycharm": {
     "name": "#%%\n"
    }
   }
  },
  {
   "cell_type": "code",
   "execution_count": null,
   "outputs": [],
   "source": [
    "\n"
   ],
   "metadata": {
    "collapsed": false,
    "pycharm": {
     "name": "#%%\n"
    }
   }
  }
 ],
 "metadata": {
  "kernelspec": {
   "display_name": "Python 3",
   "language": "python",
   "name": "python3"
  },
  "language_info": {
   "codemirror_mode": {
    "name": "ipython",
    "version": 2
   },
   "file_extension": ".py",
   "mimetype": "text/x-python",
   "name": "python",
   "nbconvert_exporter": "python",
   "pygments_lexer": "ipython2",
   "version": "2.7.6"
  }
 },
 "nbformat": 4,
 "nbformat_minor": 0
}