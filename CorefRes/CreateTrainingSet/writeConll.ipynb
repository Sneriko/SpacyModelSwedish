{
 "cells": [
  {
   "cell_type": "code",
   "execution_count": 1,
   "metadata": {
    "collapsed": true
   },
   "outputs": [],
   "source": [
    "import pickle\n",
    "import pandas as pd"
   ]
  },
  {
   "cell_type": "code",
   "execution_count": 2,
   "outputs": [],
   "source": [
    "with open('Dataframes/ep_00_01_17', 'rb') as f:\n",
    "    df = pickle.load(f)"
   ],
   "metadata": {
    "collapsed": false,
    "pycharm": {
     "name": "#%%\n"
    }
   }
  },
  {
   "cell_type": "code",
   "execution_count": 3,
   "outputs": [],
   "source": [
    "with open('conll/ep_00_01_17.v4_gold_conll', 'w') as file:\n",
    "    file.write('#begin document (ep-00-01-17); part 0' + '\\n')\n",
    "    for i in range(len(df)):\n",
    "        a = df.loc[i, 'TokenID']\n",
    "        if df.loc[i, 'TokenID'] == 0:\n",
    "            file.write('\\n')\n",
    "        file.write(df.loc[i, 'DocName'] + '\\t\\t\\t')\n",
    "        file.write(str(df.loc[i, 'DocID']) + '\\t\\t\\t')\n",
    "        file.write(str(df.loc[i, 'TokenID']) + '\\t\\t\\t')\n",
    "        file.write('{:40s}'.format(df.loc[i, 'Text']))\n",
    "        file.write('{:40s}'.format(df.loc[i, 'Tag']))\n",
    "        file.write('-' + '\\t\\t\\t' + '-' + '\\t\\t\\t' + '-' + '\\t\\t\\t' + '-' + '\\t\\t\\t')\n",
    "        file.write('{:40s}'.format(df.loc[i, 'Speaker']))\n",
    "        file.write('-' + '\\t\\t\\t')\n",
    "        file.write(df.loc[i, 'Corefs'])\n",
    "        file.write('\\n')\n",
    "\n",
    "    file.write('\\n' + '#end document')"
   ],
   "metadata": {
    "collapsed": false,
    "pycharm": {
     "name": "#%%\n"
    }
   }
  }
 ],
 "metadata": {
  "kernelspec": {
   "display_name": "Python 3",
   "language": "python",
   "name": "python3"
  },
  "language_info": {
   "codemirror_mode": {
    "name": "ipython",
    "version": 2
   },
   "file_extension": ".py",
   "mimetype": "text/x-python",
   "name": "python",
   "nbconvert_exporter": "python",
   "pygments_lexer": "ipython2",
   "version": "2.7.6"
  }
 },
 "nbformat": 4,
 "nbformat_minor": 0
}