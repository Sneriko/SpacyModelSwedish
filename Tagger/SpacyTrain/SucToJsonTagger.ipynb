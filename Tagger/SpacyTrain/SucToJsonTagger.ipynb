{
 "cells": [
  {
   "cell_type": "code",
   "execution_count": 1,
   "metadata": {
    "collapsed": true,
    "pycharm": {
     "is_executing": false
    }
   },
   "outputs": [],
   "source": [
    "import xml.etree.ElementTree as ET\n",
    "import json"
   ]
  },
  {
   "cell_type": "code",
   "execution_count": 2,
   "outputs": [],
   "source": [
    "def convert(xml):\n",
    "    \n",
    "    tree = ET.parse(xml)\n",
    "    root = tree.getroot()\n",
    "    firstId = -1\n",
    "    trainingSet = []\n",
    "    \n",
    "    \n",
    "    for paragraph in root.iter('text'):\n",
    "        paragraphDict = {}\n",
    "        sentencesList = []\n",
    "        sentencesDict = {}\n",
    "        paragraphsList = []\n",
    "        for sent in paragraph.iter('sentence'):\n",
    "            sentsDict = {}\n",
    "            tokensList = []\n",
    "            for j, token in enumerate(sent.iter('w')):\n",
    "                tokenDict = {'id': j, 'orth': token.text, 'tag': token.attrib['msd'].replace('.', '|')}\n",
    "                tokensList.append(tokenDict)\n",
    "            sentsDict['tokens'] = tokensList\n",
    "            sentencesList.append(sentsDict)\n",
    "            firstId = firstId + 1\n",
    "        sentencesDict['sentences'] = sentencesList\n",
    "        paragraphDict['id'] = firstId\n",
    "        paragraphsList.append(sentencesDict)\n",
    "        paragraphDict['paragraphs'] = paragraphsList\n",
    "        trainingSet.append(paragraphDict)\n",
    "    \n",
    "    return trainingSet\n",
    "                "
   ],
   "metadata": {
    "collapsed": false,
    "pycharm": {
     "name": "#%%\n",
     "is_executing": false
    }
   }
  },
  {
   "cell_type": "code",
   "execution_count": 3,
   "outputs": [],
   "source": [
    "def printToFile(file, spacyJson):\n",
    "    with open(file, 'w', encoding='utf-8') as f:\n",
    "        json.dump(trainingSet, f, ensure_ascii=False, indent=2)\n",
    "    "
   ],
   "metadata": {
    "collapsed": false,
    "pycharm": {
     "name": "#%%\n",
     "is_executing": false
    }
   }
  },
  {
   "cell_type": "code",
   "execution_count": 5,
   "outputs": [],
   "source": [
    "trainingSet = convert('../Data/Datasets/Common/suc3train.xml')\n",
    "printToFile('../Data/Datasets/Tagger/suc30train.json', trainingSet)\n"
   ],
   "metadata": {
    "collapsed": false,
    "pycharm": {
     "name": "#%%\n",
     "is_executing": false
    }
   }
  }
 ],
 "metadata": {
  "kernelspec": {
   "display_name": "Python 3",
   "language": "python",
   "name": "python3"
  },
  "language_info": {
   "codemirror_mode": {
    "name": "ipython",
    "version": 2
   },
   "file_extension": ".py",
   "mimetype": "text/x-python",
   "name": "python",
   "nbconvert_exporter": "python",
   "pygments_lexer": "ipython2",
   "version": "2.7.6"
  }
 },
 "nbformat": 4,
 "nbformat_minor": 0
}