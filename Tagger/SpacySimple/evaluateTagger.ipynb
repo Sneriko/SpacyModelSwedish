{
 "cells": [
  {
   "cell_type": "code",
   "execution_count": null,
   "outputs": [],
   "source": [
    "import xml.etree.ElementTree as ET\n",
    "import spacy\n",
    "tokenizer = spacy.load('../../Models/SpacySwedishModel', disable=['tagger'])\n",
    "nlp = spacy.load('../../Models/SpacySwedishModel')"
   ],
   "metadata": {
    "collapsed": false,
    "pycharm": {
     "name": "#%%\n"
    }
   }
  },
  {
   "cell_type": "code",
   "execution_count": null,
   "metadata": {
    "collapsed": true
   },
   "outputs": [],
   "source": [
    "def parseSuc30ToSpacySimplePos(file, tokenizer):\n",
    "    \n",
    "    \n",
    "    TEST_DATA = []\n",
    "    \n",
    "    tree = ET.parse(file)\n",
    "    root = tree.getroot()\n",
    "        \n",
    "    for sentence in root.iter('sentence'):\n",
    "        text = ''\n",
    "        words = []\n",
    "        tags = []\n",
    "        wordTagDict = {}\n",
    "        \n",
    "        for word in sentence.iter('w'):\n",
    "            \n",
    "            if ':' not in word.text and '/' not in word.text and \"'\" not in word.text and '+' not in word.attrib['msd']:\n",
    "                tags.append(word.attrib['msd'].replace('.', '|').replace('MAD', '.'))\n",
    "                text += word.text + ' '\n",
    "                #words.append(word.text)\n",
    "        tokdoc = tokenizer(text)\n",
    "        if len(tokdoc) == len(tags):\n",
    "            #wordTagDict['words'] = words\n",
    "            wordTagDict['tags'] = tags\n",
    "            \n",
    "            sentenceTuple = (text, wordTagDict)\n",
    "        \n",
    "            TEST_DATA.append(sentenceTuple)\n",
    "            \n",
    "    return TEST_DATA"
   ]
  },
  {
   "cell_type": "code",
   "execution_count": null,
   "outputs": [],
   "source": [
    "correctTags = 0\n",
    "totalTags = 0;\n",
    "TEST_DATA = parseSuc30ToSpacySimplePos('../../Data/Datasets/xml/suc3testset.xml', tokenizer)\n",
    "for tup in TEST_DATA:\n",
    "    doc = nlp(tup[0])\n",
    "    for index, token in enumerate(doc):\n",
    "        if token.tag_ == tup[1]['tags'][index]:\n",
    "            correctTags = correctTags + 1\n",
    "        \n"
   ],
   "metadata": {
    "collapsed": false,
    "pycharm": {
     "name": "#%%\n"
    }
   }
  },
  {
   "cell_type": "code",
   "execution_count": null,
   "outputs": [],
   "source": [
    "\n"
   ],
   "metadata": {
    "collapsed": false,
    "pycharm": {
     "name": "#%%\n"
    }
   }
  }
 ],
 "metadata": {
  "kernelspec": {
   "display_name": "Python 3",
   "language": "python",
   "name": "python3"
  },
  "language_info": {
   "codemirror_mode": {
    "name": "ipython",
    "version": 2
   },
   "file_extension": ".py",
   "mimetype": "text/x-python",
   "name": "python",
   "nbconvert_exporter": "python",
   "pygments_lexer": "ipython2",
   "version": "2.7.6"
  },
  "pycharm": {
   "stem_cell": {
    "cell_type": "raw",
    "source": [],
    "metadata": {
     "collapsed": false
    }
   }
  }
 },
 "nbformat": 4,
 "nbformat_minor": 0
}