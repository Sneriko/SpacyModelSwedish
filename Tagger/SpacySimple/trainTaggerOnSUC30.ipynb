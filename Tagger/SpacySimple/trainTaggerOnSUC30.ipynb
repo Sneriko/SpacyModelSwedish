{
 "cells": [
  {
   "cell_type": "code",
   "execution_count": 1,
   "metadata": {
    "pycharm": {
     "is_executing": false
    }
   },
   "outputs": [],
   "source": [
    "from __future__ import unicode_literals\n",
    "import xml.etree.ElementTree as ET\n",
    "import spacy\n",
    "import random\n",
    "from spacy.util import minibatch, compounding\n",
    "from pathlib import Path\n",
    "import re"
   ]
  },
  {
   "cell_type": "code",
   "execution_count": 2,
   "metadata": {
    "pycharm": {
     "is_executing": false
    }
   },
   "outputs": [],
   "source": [
    "def parseSuc30ToSpacySimplePos(file):\n",
    "    \n",
    "    TRAIN_DATA = []\n",
    "    \n",
    "    tree = ET.parse(file)\n",
    "    root = tree.getroot()\n",
    "        \n",
    "    for sentence in root.iter('sentence'):\n",
    "        text = ''\n",
    "        words = []\n",
    "        tags = []\n",
    "        wordTagDict = {}\n",
    "        \n",
    "        for word in sentence.iter('w'):\n",
    "            \n",
    "            if ':' not in word.text and '/' not in word.text and \"'\" not in word.text and '+' not in word.attrib['msd']:\n",
    "                tags.append(word.attrib['msd'].replace('.', '|').replace('MAD', '.'))\n",
    "                text += word.text + ' '\n",
    "                #words.append(word.text)\n",
    "        doc = nlp(text)\n",
    "        if len(doc) == len(tags):\n",
    "            #wordTagDict['words'] = words\n",
    "            wordTagDict['tags'] = tags\n",
    "            \n",
    "            sentenceTuple = (text, wordTagDict)\n",
    "        \n",
    "            TRAIN_DATA.append(sentenceTuple)\n",
    "            \n",
    "    return TRAIN_DATA\n",
    "        "
   ]
  },
  {
   "cell_type": "code",
   "execution_count": 8,
   "metadata": {
    "pycharm": {
     "is_executing": false,
     "name": "#%%\n"
    }
   },
   "outputs": [],
   "source": [
    "def trainTagger(TRAIN_DATA, model=None, outputDir=None):\n",
    "\n",
    "    \"\"\"if model is not None:\n",
    "        nlp = spacy.load(model)\n",
    "        print(\"Loaded model '%s'\" % model)\n",
    "    else:\n",
    "        nlp = spacy.blank(\"sv\")  # create blank Language class\n",
    "        print(\"Created blank 'sv' model\")\"\"\"\n",
    "        \n",
    "    if \"tagger\" not in nlp.pipe_names:\n",
    "        tagger = nlp.create_pipe(\"tagger\")\n",
    "        nlp.add_pipe(tagger, first=True)\n",
    "    else:\n",
    "        tagger = nlp.get_pipe(\"tagger\")\n",
    "        \n",
    "    pipe_exceptions = [\"tagger\"]\n",
    "    other_pipes = [pipe for pipe in nlp.pipe_names if pipe not in pipe_exceptions]\n",
    "    \n",
    "    with nlp.disable_pipes(*other_pipes):  # only train tagger\n",
    "        optimizer = nlp.begin_training()\n",
    "        for i in range(25):\n",
    "            random.shuffle(TRAIN_DATA)\n",
    "            losses = {}\n",
    "            batches = minibatch(TRAIN_DATA, size=compounding(4.0, 32.0, 1.001))\n",
    "            # batch up the examples using spaCy's \n",
    "            for batch in batches:\n",
    "                texts, annotations = zip(*batch)\n",
    "                nlp.update(texts, annotations, sgd=optimizer, drop=0.2, losses=losses)\n",
    "            print(\"Losses\", losses)\n",
    "        \n",
    "    # save model to output directory\n",
    "    if outputDir is not None:\n",
    "        output_dir = Path(outputDir)\n",
    "        if not outputDir.exists():\n",
    "            outputDir.mkdir()\n",
    "        nlp.to_disk(outputDir)\n",
    "        print(\"Saved model to \", outputDir)\n",
    "    "
   ]
  },
  {
   "cell_type": "code",
   "execution_count": 5,
   "outputs": [],
   "source": [
    "nlp = spacy.load('../../Models/SpacySwedishModel')\n"
   ],
   "metadata": {
    "collapsed": false,
    "pycharm": {
     "name": "#%%\n",
     "is_executing": false
    }
   }
  },
  {
   "cell_type": "code",
   "execution_count": 9,
   "outputs": [
    {
     "name": "stdout",
     "text": [
      "Losses {'tagger': 79739.24086070061}\n",
      "Losses {'tagger': 54305.30455170572}\n",
      "Losses {'tagger': 47417.51377936825}\n",
      "Losses {'tagger': 43079.36940412782}\n",
      "Losses {'tagger': 40059.01021840051}\n",
      "Losses {'tagger': 37687.91819554521}\n",
      "Losses {'tagger': 35364.03194290213}\n",
      "Losses {'tagger': 33815.38570255117}\n",
      "Losses {'tagger': 32340.20174273057}\n",
      "Losses {'tagger': 31284.260467929416}\n",
      "Losses {'tagger': 30081.50088546425}\n",
      "Losses {'tagger': 29151.41229553765}\n",
      "Losses {'tagger': 28157.150802778757}\n",
      "Losses {'tagger': 27401.383220454532}\n",
      "Losses {'tagger': 26503.349095831276}\n",
      "Losses {'tagger': 25860.21192849087}\n",
      "Losses {'tagger': 25472.729831750738}\n",
      "Losses {'tagger': 24968.859341716423}\n",
      "Losses {'tagger': 24333.463596730144}\n",
      "Losses {'tagger': 23833.918665286506}\n",
      "Losses {'tagger': 23159.60243100807}\n",
      "Losses {'tagger': 23090.96203229057}\n",
      "Losses {'tagger': 22486.90328554903}\n",
      "Losses {'tagger': 22033.832355019804}\n",
      "Losses {'tagger': 21736.637365559407}\n"
     ],
     "output_type": "stream"
    }
   ],
   "source": [
    "TRAIN_DATA = parseSuc30ToSpacySimplePos('../../Data/Datasets/xml/suc3train.xml')\n",
    "\n",
    "trainTagger(TRAIN_DATA, '../../Models/SpacySwedishModel', '../../Models/SpacySwedishModel')"
   ],
   "metadata": {
    "collapsed": false,
    "pycharm": {
     "name": "#%%\n",
     "is_executing": false
    }
   }
  },
  {
   "cell_type": "code",
   "execution_count": 11,
   "outputs": [
    {
     "name": "stdout",
     "text": [
      "IN\n",
      "PN|UTR|SIN|DEF|SUB\n",
      "VB|PRS|AKT\n",
      "PM|NOM\n",
      "MID\n",
      "PN|UTR|SIN|DEF|SUB\n",
      "VB|PRS|AKT\n",
      "AB\n",
      "VB|SUP|AKT\n",
      "AB|POS\n",
      "MID\n"
     ],
     "output_type": "stream"
    }
   ],
   "source": [
    "doc = nlp('Hej jag heter Erik. Jag har just tränat hårt.')     \n",
    "for token in doc:\n",
    "    print(token.tag_)\n"
   ],
   "metadata": {
    "collapsed": false,
    "pycharm": {
     "name": "#%%\n",
     "is_executing": false
    }
   }
  },
  {
   "cell_type": "code",
   "execution_count": null,
   "outputs": [],
   "source": [
    "\n"
   ],
   "metadata": {
    "collapsed": false,
    "pycharm": {
     "name": "#%%\n"
    }
   }
  }
 ],
 "metadata": {
  "kernelspec": {
   "name": "python3",
   "language": "python",
   "display_name": "Python 3"
  },
  "language_info": {
   "codemirror_mode": {
    "name": "ipython",
    "version": 3
   },
   "file_extension": ".py",
   "mimetype": "text/x-python",
   "name": "python",
   "nbconvert_exporter": "python",
   "pygments_lexer": "ipython3",
   "version": "3.7.4"
  },
  "pycharm": {
   "stem_cell": {
    "cell_type": "raw",
    "source": [],
    "metadata": {
     "collapsed": false
    }
   }
  }
 },
 "nbformat": 4,
 "nbformat_minor": 1
}