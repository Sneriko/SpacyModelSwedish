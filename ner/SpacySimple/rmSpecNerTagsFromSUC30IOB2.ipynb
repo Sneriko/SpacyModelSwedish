{
 "cells": [
  {
   "cell_type": "code",
   "execution_count": 2,
   "metadata": {
    "collapsed": true,
    "pycharm": {
     "is_executing": false
    }
   },
   "outputs": [],
   "source": [
    "def removeUnwantedNerTagsFromSUC30IOB2(oldfile, newfile):\n",
    "    with open(newfile, 'a') as outfile, open(oldfile, 'r') as infile:\n",
    "        for line in infile:\n",
    "            newline1 = line.replace('|B-WRK', '|O').replace('|I-WRK', '|O')\n",
    "            newline2 = newline1.replace('|B-MSR', '|O').replace('|I-MSR', '|O')\n",
    "            newline3 = newline2.replace('|B-LOC/PRS', '|O').replace('|I-LOC/PRS', '|O')\n",
    "            newline4 = newline3.replace('|B-EVN', '|O').replace('|I-EVN', '|O')\n",
    "            newline5 = newline4.replace('|B-OBJ', '|O').replace('|I-OBJ', '|O')\n",
    "            newline6 = newline5.replace('|B-ORG/PRS', '|O').replace('|I-ORG/PRS', '|O')\n",
    "            newline7 = newline6.replace('|B-LOC/ORG', '|O').replace('|I-LOC/ORG', '|O')\n",
    "            newline8 = newline7.replace('|B-LOC/LOC', '|O').replace('|I-LOC/LOC', '|O')\n",
    "            newline9 = newline8.replace('|B-PRS/WRK', '|O').replace('|I-PRS/WRK', '|O')\n",
    "            newline10 = newline9.replace('|B-ORG/WRK', '|O').replace('|I-ORG/WRK', '|O')\n",
    "            newline11 = newline10.replace('|B-OBJ/ORG', '|O').replace('|I-OBJ/ORG', '|O')\n",
    "            outfile.write(newline11)\n",
    "            "
   ]
  },
  {
   "cell_type": "code",
   "execution_count": 3,
   "outputs": [],
   "source": [
    "\n",
    "removeUnwantedNerTagsFromSUC30IOB2('../../Data/Datasets/IOB2/SUC30IOB2', '../../Data/Datasets/IOB2/SUC30IOB2SelTags')\n",
    "\n"
   ],
   "metadata": {
    "collapsed": false,
    "pycharm": {
     "name": "#%%\n",
     "is_executing": false
    }
   }
  }
 ],
 "metadata": {
  "kernelspec": {
   "name": "python3",
   "language": "python",
   "display_name": "Python 3"
  },
  "language_info": {
   "codemirror_mode": {
    "name": "ipython",
    "version": 3
   },
   "file_extension": ".py",
   "mimetype": "text/x-python",
   "name": "python",
   "nbconvert_exporter": "python",
   "pygments_lexer": "ipython3",
   "version": "3.7.4"
  },
  "pycharm": {
   "stem_cell": {
    "cell_type": "raw",
    "source": [
     "#%\n",
     "\n"
    ],
    "metadata": {
     "collapsed": false
    }
   }
  }
 },
 "nbformat": 4,
 "nbformat_minor": 1
}