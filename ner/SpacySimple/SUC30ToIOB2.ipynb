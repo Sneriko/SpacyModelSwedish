{
 "cells": [
  {
   "cell_type": "code",
   "execution_count": 1,
   "metadata": {
    "pycharm": {
     "is_executing": false
    }
   },
   "outputs": [],
   "source": [
    "from xml.etree.ElementTree import iterparse"
   ]
  },
  {
   "cell_type": "code",
   "execution_count": 2,
   "metadata": {
    "pycharm": {
     "is_executing": false
    }
   },
   "outputs": [],
   "source": [
    "def parse(fparse):\n",
    "    root = None\n",
    "    ne_type = 'O'\n",
    "    ne_prefix = ''\n",
    "    for event, elem in iterparse(fparse, events=('start', 'end')):\n",
    "        if root is None:\n",
    "            root = elem\n",
    "        \n",
    "        if event == \"end\" and elem.tag == \"sentence\":\n",
    "            yield \"\\n\"\n",
    "        \n",
    "        if event == \"start\" and elem.tag == \"ne\":\n",
    "            ne_type = elem.attrib[\"type\"]\n",
    "            ne_prefix = \"B-\"\n",
    "        \n",
    "        if event == \"end\" and elem.tag == \"ne\":\n",
    "            ne_type = \"O\"\n",
    "            ne_prefix = \"\"\n",
    "            \n",
    "        if event == \"end\" and elem.tag == \"w\":\n",
    "            yield elem.text + \"|\" + ne_prefix + ne_type + \" \"\n",
    "\n",
    "            if ne_type != \"O\":\n",
    "                ne_prefix = \"I-\"\n",
    "                \n",
    "        root.clear()"
   ]
  },
  {
   "cell_type": "code",
   "execution_count": 3,
   "metadata": {
    "pycharm": {
     "is_executing": false,
     "name": "#%%\n"
    }
   },
   "outputs": [
    {
     "traceback": [
      "\u001b[0;31m---------------------------------------------------------------------------\u001b[0m",
      "\u001b[0;31mFileNotFoundError\u001b[0m                         Traceback (most recent call last)",
      "\u001b[0;32m<ipython-input-3-57cb2918c959>\u001b[0m in \u001b[0;36m<module>\u001b[0;34m\u001b[0m\n\u001b[0;32m----> 1\u001b[0;31m \u001b[0mfp\u001b[0m \u001b[0;34m=\u001b[0m \u001b[0mopen\u001b[0m\u001b[0;34m(\u001b[0m\u001b[0;34m'../Data/Datasets/suc3.xml'\u001b[0m\u001b[0;34m,\u001b[0m \u001b[0;34m'rb'\u001b[0m\u001b[0;34m)\u001b[0m\u001b[0;34m\u001b[0m\u001b[0;34m\u001b[0m\u001b[0m\n\u001b[0m\u001b[1;32m      2\u001b[0m \u001b[0moutfile\u001b[0m \u001b[0;34m=\u001b[0m \u001b[0mopen\u001b[0m\u001b[0;34m(\u001b[0m\u001b[0;34m'../Data/DatasetsFormatIOB/SUC30IOB2'\u001b[0m\u001b[0;34m,\u001b[0m \u001b[0;34m'a'\u001b[0m\u001b[0;34m)\u001b[0m\u001b[0;34m\u001b[0m\u001b[0;34m\u001b[0m\u001b[0m\n\u001b[1;32m      3\u001b[0m \u001b[0;32mfor\u001b[0m \u001b[0mline\u001b[0m \u001b[0;32min\u001b[0m \u001b[0mparse\u001b[0m\u001b[0;34m(\u001b[0m\u001b[0mfp\u001b[0m\u001b[0;34m)\u001b[0m\u001b[0;34m:\u001b[0m\u001b[0;34m\u001b[0m\u001b[0;34m\u001b[0m\u001b[0m\n\u001b[1;32m      4\u001b[0m     \u001b[0moutfile\u001b[0m\u001b[0;34m.\u001b[0m\u001b[0mwrite\u001b[0m\u001b[0;34m(\u001b[0m\u001b[0mline\u001b[0m\u001b[0;34m)\u001b[0m\u001b[0;34m\u001b[0m\u001b[0;34m\u001b[0m\u001b[0m\n\u001b[1;32m      5\u001b[0m \u001b[0;34m\u001b[0m\u001b[0m\n",
      "\u001b[0;31mFileNotFoundError\u001b[0m: [Errno 2] No such file or directory: '../Data/Datasets/suc3.xml'"
     ],
     "ename": "FileNotFoundError",
     "evalue": "[Errno 2] No such file or directory: '../Data/Datasets/suc3.xml'",
     "output_type": "error"
    }
   ],
   "source": [
    "fp = open('../Data/Datasets/xml/suc3.xml', 'rb')\n",
    "outfile = open('../Data/Datasets/IOB2/SUC30IOB2', 'a')\n",
    "for line in parse(fp):\n",
    "    outfile.write(line)\n",
    "    \n",
    "outfile.close()\n",
    "fp.close()\n"
   ]
  }
 ],
 "metadata": {
  "kernelspec": {
   "name": "python3",
   "language": "python",
   "display_name": "Python 3"
  },
  "language_info": {
   "codemirror_mode": {
    "name": "ipython",
    "version": 3
   },
   "file_extension": ".py",
   "mimetype": "text/x-python",
   "name": "python",
   "nbconvert_exporter": "python",
   "pygments_lexer": "ipython3",
   "version": "3.7.4"
  },
  "pycharm": {
   "stem_cell": {
    "cell_type": "raw",
    "source": [],
    "metadata": {
     "collapsed": false
    }
   }
  }
 },
 "nbformat": 4,
 "nbformat_minor": 1
}